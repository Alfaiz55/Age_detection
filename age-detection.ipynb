{
 "cells": [
  {
   "cell_type": "markdown",
   "id": "2abeba19",
   "metadata": {},
   "source": [
    "# Age Detection Model"
   ]
  },
  {
   "cell_type": "markdown",
   "id": "0dfb76e0",
   "metadata": {},
   "source": [
    "**Import necessary libraries**"
   ]
  },
  {
   "cell_type": "code",
   "execution_count": 21,
   "id": "2bc1c526",
   "metadata": {
    "execution": {
     "iopub.execute_input": "2025-07-08T12:58:00.192744Z",
     "iopub.status.busy": "2025-07-08T12:58:00.192075Z",
     "iopub.status.idle": "2025-07-08T12:58:00.197011Z",
     "shell.execute_reply": "2025-07-08T12:58:00.196453Z",
     "shell.execute_reply.started": "2025-07-08T12:58:00.192722Z"
    }
   },
   "outputs": [],
   "source": [
    "import os                  \n",
    "import cv2                 \n",
    "import numpy as np\n",
    "from sklearn.model_selection import train_test_split\n",
    "\n",
    "import tensorflow as tf\n",
    "from tensorflow.keras.applications import MobileNetV2\n",
    "from tensorflow.keras.models import Model\n",
    "from tensorflow.keras.layers import Input, Dense, Dropout, GlobalAveragePooling2D\n",
    "from tensorflow.keras.callbacks import ModelCheckpoint, EarlyStopping\n",
    "from tqdm import tqdm\n",
    "\n",
    "import matplotlib.pyplot as plt\n",
    "import random \n"
   ]
  },
  {
   "cell_type": "markdown",
   "id": "e3bea5e2",
   "metadata": {},
   "source": [
    "**Load the dataset**"
   ]
  },
  {
   "cell_type": "code",
   "execution_count": 8,
   "id": "62fa57f7",
   "metadata": {
    "execution": {
     "iopub.execute_input": "2025-07-08T12:36:36.892839Z",
     "iopub.status.busy": "2025-07-08T12:36:36.892344Z",
     "iopub.status.idle": "2025-07-08T12:37:31.665483Z",
     "shell.execute_reply": "2025-07-08T12:37:31.664837Z",
     "shell.execute_reply.started": "2025-07-08T12:36:36.892819Z"
    }
   },
   "outputs": [
    {
     "name": "stderr",
     "output_type": "stream",
     "text": [
      "100%|██████████| 5000/5000 [00:52<00:00, 95.72it/s] \n"
     ]
    },
    {
     "name": "stdout",
     "output_type": "stream",
     "text": [
      "Total images loaded:- 5000\n",
      "shape of X:- (5000, 224, 224, 3)\n",
      "Shape of y:- (5000,)\n"
     ]
    }
   ],
   "source": [
    "image_data='/kaggle/input/utk-face-cropped/utkcropped'    \n",
    "image_size = 224            # We resize all images to 224x224 for our MobileNetV2 Model\n",
    "X,y=[],[]\n",
    "\n",
    "files = os.listdir(image_data)[:5000] #Work on the 5000 becasue the system is not handle the overall dataset\n",
    "\n",
    "for file in tqdm(files):\n",
    "    try:\n",
    "        age = int(file.split(\"_\")[0])  # Extract the  age via filename\n",
    "        img_path = os.path.join(image_data, file)\n",
    "        \n",
    "        image = cv2.imread(img_path)\n",
    "        image = cv2.resize(image, (image_size, image_size))\n",
    "        image = image / 255.0  # Normalize the images\n",
    "\n",
    "        X.append(image)\n",
    "        y.append(age)\n",
    "    except:\n",
    "        continue\n",
    "\n",
    "X = np.array(X)\n",
    "y = np.array(y)\n",
    "\n",
    "print(\"Total images loaded:-\", len(X))\n",
    "print(\"shape of X:-\", X.shape)\n",
    "print(\"Shape of y:-\", y.shape)"
   ]
  },
  {
   "cell_type": "markdown",
   "id": "3728c775",
   "metadata": {},
   "source": [
    "**Split the data for training and testing**"
   ]
  },
  {
   "cell_type": "code",
   "execution_count": 9,
   "id": "5059e73f",
   "metadata": {
    "execution": {
     "iopub.execute_input": "2025-07-08T12:37:31.666463Z",
     "iopub.status.busy": "2025-07-08T12:37:31.666199Z",
     "iopub.status.idle": "2025-07-08T12:37:32.987874Z",
     "shell.execute_reply": "2025-07-08T12:37:32.987211Z",
     "shell.execute_reply.started": "2025-07-08T12:37:31.666444Z"
    }
   },
   "outputs": [
    {
     "name": "stdout",
     "output_type": "stream",
     "text": [
      "Training data for Model:- 4000\n",
      "Testing data for Model:- 1000\n"
     ]
    }
   ],
   "source": [
    "X_train,X_test,y_train,y_test=train_test_split(X,y,test_size=0.2,random_state=42)\n",
    "#print the quantity of training and testing data\n",
    "print(f\"Training data for Model:- {len(X_train)}\")\n",
    "print(f\"Testing data for Model:- {len(X_test)}\")"
   ]
  },
  {
   "cell_type": "markdown",
   "id": "66106c13",
   "metadata": {},
   "source": [
    "**Build the MobileNetV2-Based Model**"
   ]
  },
  {
   "cell_type": "code",
   "execution_count": 10,
   "id": "62d252bd",
   "metadata": {
    "execution": {
     "iopub.execute_input": "2025-07-08T12:37:32.990063Z",
     "iopub.status.busy": "2025-07-08T12:37:32.989625Z",
     "iopub.status.idle": "2025-07-08T12:37:36.402961Z",
     "shell.execute_reply": "2025-07-08T12:37:36.402334Z",
     "shell.execute_reply.started": "2025-07-08T12:37:32.990043Z"
    }
   },
   "outputs": [
    {
     "name": "stderr",
     "output_type": "stream",
     "text": [
      "I0000 00:00:1751978254.205709      35 gpu_device.cc:2022] Created device /job:localhost/replica:0/task:0/device:GPU:0 with 13942 MB memory:  -> device: 0, name: Tesla T4, pci bus id: 0000:00:04.0, compute capability: 7.5\n",
      "I0000 00:00:1751978254.206338      35 gpu_device.cc:2022] Created device /job:localhost/replica:0/task:0/device:GPU:1 with 13942 MB memory:  -> device: 1, name: Tesla T4, pci bus id: 0000:00:05.0, compute capability: 7.5\n"
     ]
    },
    {
     "name": "stdout",
     "output_type": "stream",
     "text": [
      "Downloading data from https://storage.googleapis.com/tensorflow/keras-applications/mobilenet_v2/mobilenet_v2_weights_tf_dim_ordering_tf_kernels_1.0_224_no_top.h5\n",
      "\u001b[1m9406464/9406464\u001b[0m \u001b[32m━━━━━━━━━━━━━━━━━━━━\u001b[0m\u001b[37m\u001b[0m \u001b[1m0s\u001b[0m 0us/step\n",
      "done\n"
     ]
    }
   ],
   "source": [
    "#Define the shape for input\n",
    "input_shape=(224,224,3)\n",
    "\n",
    "## Load pre-trained MobileNetV2 model without the top layer to make our own layer\n",
    "base_model=MobileNetV2(\n",
    "    input_shape=input_shape,\n",
    "    include_top=False,\n",
    "    weights='imagenet'\n",
    "    )\n",
    "\n",
    "#Stop the base model layer\n",
    "base_model.trainable=False\n",
    "\n",
    "# create the new model on first of base\n",
    "inputs=Input(shape=input_shape)\n",
    "x=base_model(inputs,training=False)\n",
    "x=GlobalAveragePooling2D()(x)\n",
    "x=Dropout(0.3)(x)\n",
    "x=Dense(128,activation='relu')(x)\n",
    "x=Dropout(0.3)(x)\n",
    "\n",
    "output=Dense(1)(x) #One output neuraon for predicting the age\n",
    "\n",
    "#Bulid the proper Model\n",
    "model=Model(inputs,output)\n",
    "\n",
    "#compile the model using the MSL(mean square loss) which is part of regression\n",
    "model.compile(optimizer='adam',\n",
    "             loss='mean_squared_error',\n",
    "             metrics=['mae'])\n",
    "#Mean absolute Error to creating our model more readable\n",
    "print(\"done\")"
   ]
  },
  {
   "cell_type": "markdown",
   "id": "412109a6",
   "metadata": {},
   "source": [
    "**Training the model**"
   ]
  },
  {
   "cell_type": "code",
   "execution_count": 11,
   "id": "dac48dbc",
   "metadata": {
    "execution": {
     "iopub.execute_input": "2025-07-08T12:37:36.403873Z",
     "iopub.status.busy": "2025-07-08T12:37:36.403641Z",
     "iopub.status.idle": "2025-07-08T12:37:36.408513Z",
     "shell.execute_reply": "2025-07-08T12:37:36.407994Z",
     "shell.execute_reply.started": "2025-07-08T12:37:36.403857Z"
    }
   },
   "outputs": [
    {
     "name": "stdout",
     "output_type": "stream",
     "text": [
      "done\n"
     ]
    }
   ],
   "source": [
    "#set the Training Callbacks for better training\n",
    "checkpoint=ModelCheckpoint('age_model.h5',      # Save better accuracy model to this .h5 file\n",
    "                          monitor='val_loss',   # Checking the validation loss to save model\n",
    "                          save_best_only=True,\n",
    "                          verbose=1)\n",
    "\n",
    "earlystops=EarlyStopping(monitor='val_loss',        # Stop if validation loss stops improving\n",
    "                        patience=5,                 # Wait for 5 epochs before stopping\n",
    "                        restore_best_weights=True)  # Roll back to best weights\n",
    "print(\"done\")"
   ]
  },
  {
   "cell_type": "code",
   "execution_count": 15,
   "id": "ceeb8d3f",
   "metadata": {
    "execution": {
     "iopub.execute_input": "2025-07-08T12:40:50.899077Z",
     "iopub.status.busy": "2025-07-08T12:40:50.898525Z",
     "iopub.status.idle": "2025-07-08T12:42:20.829933Z",
     "shell.execute_reply": "2025-07-08T12:42:20.829320Z",
     "shell.execute_reply.started": "2025-07-08T12:40:50.899054Z"
    }
   },
   "outputs": [
    {
     "name": "stdout",
     "output_type": "stream",
     "text": [
      "Epoch 1/15\n",
      "\u001b[1m249/250\u001b[0m \u001b[32m━━━━━━━━━━━━━━━━━━━\u001b[0m\u001b[37m━\u001b[0m \u001b[1m0s\u001b[0m 17ms/step - loss: 156.4402 - mae: 9.4673\n",
      "Epoch 1: val_loss did not improve from 172.71072\n",
      "\u001b[1m250/250\u001b[0m \u001b[32m━━━━━━━━━━━━━━━━━━━━\u001b[0m\u001b[37m\u001b[0m \u001b[1m7s\u001b[0m 29ms/step - loss: 156.4588 - mae: 9.4687 - val_loss: 174.8926 - val_mae: 9.6464\n",
      "Epoch 2/15\n",
      "\u001b[1m250/250\u001b[0m \u001b[32m━━━━━━━━━━━━━━━━━━━━\u001b[0m\u001b[37m\u001b[0m \u001b[1m0s\u001b[0m 17ms/step - loss: 155.4291 - mae: 9.3893\n",
      "Epoch 2: val_loss did not improve from 172.71072\n",
      "\u001b[1m250/250\u001b[0m \u001b[32m━━━━━━━━━━━━━━━━━━━━\u001b[0m\u001b[37m\u001b[0m \u001b[1m5s\u001b[0m 21ms/step - loss: 155.4347 - mae: 9.3896 - val_loss: 179.2019 - val_mae: 9.5830\n",
      "Epoch 3/15\n",
      "\u001b[1m247/250\u001b[0m \u001b[32m━━━━━━━━━━━━━━━━━━━\u001b[0m\u001b[37m━\u001b[0m \u001b[1m0s\u001b[0m 17ms/step - loss: 151.2338 - mae: 9.4149\n",
      "Epoch 3: val_loss improved from 172.71072 to 172.34386, saving model to age_model.h5\n",
      "\u001b[1m250/250\u001b[0m \u001b[32m━━━━━━━━━━━━━━━━━━━━\u001b[0m\u001b[37m\u001b[0m \u001b[1m6s\u001b[0m 22ms/step - loss: 151.2401 - mae: 9.4143 - val_loss: 172.3439 - val_mae: 9.4919\n",
      "Epoch 4/15\n",
      "\u001b[1m249/250\u001b[0m \u001b[32m━━━━━━━━━━━━━━━━━━━\u001b[0m\u001b[37m━\u001b[0m \u001b[1m0s\u001b[0m 17ms/step - loss: 144.9738 - mae: 9.1303\n",
      "Epoch 4: val_loss did not improve from 172.34386\n",
      "\u001b[1m250/250\u001b[0m \u001b[32m━━━━━━━━━━━━━━━━━━━━\u001b[0m\u001b[37m\u001b[0m \u001b[1m5s\u001b[0m 21ms/step - loss: 145.0077 - mae: 9.1313 - val_loss: 173.2298 - val_mae: 9.5576\n",
      "Epoch 5/15\n",
      "\u001b[1m248/250\u001b[0m \u001b[32m━━━━━━━━━━━━━━━━━━━\u001b[0m\u001b[37m━\u001b[0m \u001b[1m0s\u001b[0m 17ms/step - loss: 161.4232 - mae: 9.6667\n",
      "Epoch 5: val_loss improved from 172.34386 to 171.04208, saving model to age_model.h5\n",
      "\u001b[1m250/250\u001b[0m \u001b[32m━━━━━━━━━━━━━━━━━━━━\u001b[0m\u001b[37m\u001b[0m \u001b[1m6s\u001b[0m 22ms/step - loss: 161.3752 - mae: 9.6645 - val_loss: 171.0421 - val_mae: 9.3855\n",
      "Epoch 6/15\n",
      "\u001b[1m250/250\u001b[0m \u001b[32m━━━━━━━━━━━━━━━━━━━━\u001b[0m\u001b[37m\u001b[0m \u001b[1m0s\u001b[0m 17ms/step - loss: 146.6300 - mae: 9.1633\n",
      "Epoch 6: val_loss did not improve from 171.04208\n",
      "\u001b[1m250/250\u001b[0m \u001b[32m━━━━━━━━━━━━━━━━━━━━\u001b[0m\u001b[37m\u001b[0m \u001b[1m5s\u001b[0m 21ms/step - loss: 146.6430 - mae: 9.1638 - val_loss: 175.3529 - val_mae: 9.4086\n",
      "Epoch 7/15\n",
      "\u001b[1m247/250\u001b[0m \u001b[32m━━━━━━━━━━━━━━━━━━━\u001b[0m\u001b[37m━\u001b[0m \u001b[1m0s\u001b[0m 17ms/step - loss: 136.9152 - mae: 8.9446\n",
      "Epoch 7: val_loss did not improve from 171.04208\n",
      "\u001b[1m250/250\u001b[0m \u001b[32m━━━━━━━━━━━━━━━━━━━━\u001b[0m\u001b[37m\u001b[0m \u001b[1m5s\u001b[0m 21ms/step - loss: 137.0353 - mae: 8.9480 - val_loss: 172.9749 - val_mae: 9.3211\n",
      "Epoch 8/15\n",
      "\u001b[1m248/250\u001b[0m \u001b[32m━━━━━━━━━━━━━━━━━━━\u001b[0m\u001b[37m━\u001b[0m \u001b[1m0s\u001b[0m 17ms/step - loss: 150.1086 - mae: 9.3460\n",
      "Epoch 8: val_loss improved from 171.04208 to 170.56659, saving model to age_model.h5\n",
      "\u001b[1m250/250\u001b[0m \u001b[32m━━━━━━━━━━━━━━━━━━━━\u001b[0m\u001b[37m\u001b[0m \u001b[1m6s\u001b[0m 22ms/step - loss: 150.1109 - mae: 9.3453 - val_loss: 170.5666 - val_mae: 9.3848\n",
      "Epoch 9/15\n",
      "\u001b[1m247/250\u001b[0m \u001b[32m━━━━━━━━━━━━━━━━━━━\u001b[0m\u001b[37m━\u001b[0m \u001b[1m0s\u001b[0m 17ms/step - loss: 142.4403 - mae: 9.1581\n",
      "Epoch 9: val_loss did not improve from 170.56659\n",
      "\u001b[1m250/250\u001b[0m \u001b[32m━━━━━━━━━━━━━━━━━━━━\u001b[0m\u001b[37m\u001b[0m \u001b[1m5s\u001b[0m 21ms/step - loss: 142.4790 - mae: 9.1579 - val_loss: 174.1513 - val_mae: 9.6519\n",
      "Epoch 10/15\n",
      "\u001b[1m250/250\u001b[0m \u001b[32m━━━━━━━━━━━━━━━━━━━━\u001b[0m\u001b[37m\u001b[0m \u001b[1m0s\u001b[0m 17ms/step - loss: 148.2348 - mae: 9.1950\n",
      "Epoch 10: val_loss did not improve from 170.56659\n",
      "\u001b[1m250/250\u001b[0m \u001b[32m━━━━━━━━━━━━━━━━━━━━\u001b[0m\u001b[37m\u001b[0m \u001b[1m5s\u001b[0m 21ms/step - loss: 148.2287 - mae: 9.1951 - val_loss: 172.4400 - val_mae: 9.6358\n",
      "Epoch 11/15\n",
      "\u001b[1m248/250\u001b[0m \u001b[32m━━━━━━━━━━━━━━━━━━━\u001b[0m\u001b[37m━\u001b[0m \u001b[1m0s\u001b[0m 17ms/step - loss: 141.2661 - mae: 9.1598\n",
      "Epoch 11: val_loss improved from 170.56659 to 168.58847, saving model to age_model.h5\n",
      "\u001b[1m250/250\u001b[0m \u001b[32m━━━━━━━━━━━━━━━━━━━━\u001b[0m\u001b[37m\u001b[0m \u001b[1m6s\u001b[0m 22ms/step - loss: 141.2494 - mae: 9.1577 - val_loss: 168.5885 - val_mae: 9.3278\n",
      "Epoch 12/15\n",
      "\u001b[1m250/250\u001b[0m \u001b[32m━━━━━━━━━━━━━━━━━━━━\u001b[0m\u001b[37m\u001b[0m \u001b[1m0s\u001b[0m 17ms/step - loss: 139.9185 - mae: 8.9837\n",
      "Epoch 12: val_loss did not improve from 168.58847\n",
      "\u001b[1m250/250\u001b[0m \u001b[32m━━━━━━━━━━━━━━━━━━━━\u001b[0m\u001b[37m\u001b[0m \u001b[1m5s\u001b[0m 21ms/step - loss: 139.9120 - mae: 8.9836 - val_loss: 169.7762 - val_mae: 9.3493\n",
      "Epoch 13/15\n",
      "\u001b[1m250/250\u001b[0m \u001b[32m━━━━━━━━━━━━━━━━━━━━\u001b[0m\u001b[37m\u001b[0m \u001b[1m0s\u001b[0m 17ms/step - loss: 143.6090 - mae: 9.0671\n",
      "Epoch 13: val_loss did not improve from 168.58847\n",
      "\u001b[1m250/250\u001b[0m \u001b[32m━━━━━━━━━━━━━━━━━━━━\u001b[0m\u001b[37m\u001b[0m \u001b[1m5s\u001b[0m 21ms/step - loss: 143.6046 - mae: 9.0673 - val_loss: 186.3161 - val_mae: 9.6267\n",
      "Epoch 14/15\n",
      "\u001b[1m248/250\u001b[0m \u001b[32m━━━━━━━━━━━━━━━━━━━\u001b[0m\u001b[37m━\u001b[0m \u001b[1m0s\u001b[0m 17ms/step - loss: 136.4752 - mae: 8.8790\n",
      "Epoch 14: val_loss did not improve from 168.58847\n",
      "\u001b[1m250/250\u001b[0m \u001b[32m━━━━━━━━━━━━━━━━━━━━\u001b[0m\u001b[37m\u001b[0m \u001b[1m5s\u001b[0m 21ms/step - loss: 136.4989 - mae: 8.8795 - val_loss: 170.9993 - val_mae: 9.5349\n",
      "Epoch 15/15\n",
      "\u001b[1m248/250\u001b[0m \u001b[32m━━━━━━━━━━━━━━━━━━━\u001b[0m\u001b[37m━\u001b[0m \u001b[1m0s\u001b[0m 17ms/step - loss: 144.7447 - mae: 9.0985\n",
      "Epoch 15: val_loss did not improve from 168.58847\n",
      "\u001b[1m250/250\u001b[0m \u001b[32m━━━━━━━━━━━━━━━━━━━━\u001b[0m\u001b[37m\u001b[0m \u001b[1m5s\u001b[0m 21ms/step - loss: 144.6977 - mae: 9.0971 - val_loss: 172.5871 - val_mae: 9.2535\n",
      "done\n"
     ]
    }
   ],
   "source": [
    "history=model.fit(X_train,y_train,\n",
    "                 validation_data=(X_test,y_test),\n",
    "                 epochs=15,\n",
    "                 batch_size=16,                      # there is number of samples per step\n",
    "                 callbacks=[checkpoint, earlystops])  # checkpoint improve training with callbacks\n",
    "\n",
    "print(\"done\")"
   ]
  },
  {
   "cell_type": "code",
   "execution_count": 18,
   "id": "5d6faab5",
   "metadata": {
    "execution": {
     "iopub.execute_input": "2025-07-08T12:54:55.552845Z",
     "iopub.status.busy": "2025-07-08T12:54:55.552576Z",
     "iopub.status.idle": "2025-07-08T12:54:55.557899Z",
     "shell.execute_reply": "2025-07-08T12:54:55.557141Z",
     "shell.execute_reply.started": "2025-07-08T12:54:55.552827Z"
    }
   },
   "outputs": [
    {
     "name": "stdout",
     "output_type": "stream",
     "text": [
      "Best Validation MAE: 9.25\n",
      "Estimated Accuracy: 92.02%\n"
     ]
    }
   ],
   "source": [
    "val_mae_list = history.history['val_mae'] #Get the Mean Absolute error for accuracy\n",
    "\n",
    "best_val_mae = min(val_mae_list)# take minimum val_mae\n",
    "\n",
    "\n",
    "max_age = 116   # (enter the  dataset max age is 116/100)\n",
    "\n",
    "# Calculate the Accuracy\n",
    "accuracy = (1 - (best_val_mae / max_age)) * 100\n",
    "\n",
    "print(f\"Best Validation MAE: {best_val_mae:.2f}\")\n",
    "print(f\"Estimated Accuracy: {accuracy:.2f}%\")\n"
   ]
  },
  {
   "cell_type": "markdown",
   "id": "07d07c80-e550-4073-a1f2-cc6334861d2c",
   "metadata": {
    "execution": {
     "iopub.execute_input": "2025-07-08T12:34:00.022133Z",
     "iopub.status.busy": "2025-07-08T12:34:00.021586Z",
     "iopub.status.idle": "2025-07-08T12:34:00.026500Z",
     "shell.execute_reply": "2025-07-08T12:34:00.025638Z",
     "shell.execute_reply.started": "2025-07-08T12:34:00.022110Z"
    }
   },
   "source": [
    "**Testing Our Model Prediction**"
   ]
  },
  {
   "cell_type": "code",
   "execution_count": 16,
   "id": "47e5f775-7cee-496c-bd1a-f4f5d7950a66",
   "metadata": {
    "execution": {
     "iopub.execute_input": "2025-07-08T12:52:26.997275Z",
     "iopub.status.busy": "2025-07-08T12:52:26.996729Z",
     "iopub.status.idle": "2025-07-08T12:52:29.719236Z",
     "shell.execute_reply": "2025-07-08T12:52:29.718638Z",
     "shell.execute_reply.started": "2025-07-08T12:52:26.997252Z"
    }
   },
   "outputs": [
    {
     "name": "stdout",
     "output_type": "stream",
     "text": [
      "\u001b[1m32/32\u001b[0m \u001b[32m━━━━━━━━━━━━━━━━━━━━\u001b[0m\u001b[37m\u001b[0m \u001b[1m1s\u001b[0m 30ms/step\n"
     ]
    }
   ],
   "source": [
    "y_pred=model.predict(X_test) #predict the age using our trained model\n",
    "y_pred=y_pred.flatten() #Converting into the 1D array"
   ]
  },
  {
   "cell_type": "markdown",
   "id": "db135d76-1228-4fc0-9077-f8caabf6cb5d",
   "metadata": {},
   "source": [
    "**Visualize Actual vs Predicted Age (10 Random Samples)**"
   ]
  },
  {
   "cell_type": "code",
   "execution_count": 22,
   "id": "f1e7aade-fefd-44f9-9e27-8ad13157c361",
   "metadata": {
    "execution": {
     "iopub.execute_input": "2025-07-08T12:58:08.366359Z",
     "iopub.status.busy": "2025-07-08T12:58:08.365643Z",
     "iopub.status.idle": "2025-07-08T12:58:09.166980Z",
     "shell.execute_reply": "2025-07-08T12:58:09.166301Z",
     "shell.execute_reply.started": "2025-07-08T12:58:08.366332Z"
    }
   },
   "outputs": [
    {
     "data": {
      "image/png": "[encoded data removed]",
      "text/plain": [
       "<Figure size 1500x600 with 10 Axes>"
      ]
     },
     "metadata": {},
     "output_type": "display_data"
    }
   ],
   "source": [
    "plt.figure(figsize=(15,6))\n",
    "for i in range(10):\n",
    "    index = random.randint(0, len(X_test) - 1)  # random index from test data \n",
    "    image = X_test[index]\n",
    "    true_age = int(y_test[index])\n",
    "    predicted_age = int(y_pred[index])\n",
    "\n",
    "    plt.subplot(2, 5, i + 1)\n",
    "    plt.imshow(image.astype('uint8'))\n",
    "    plt.title(f\"Actual: {true_age} | Pred: {predicted_age}\")\n",
    "    plt.axis('off')\n",
    "\n",
    "plt.tight_layout()\n",
    "plt.show()"
   ]
  },
  {
   "cell_type": "markdown",
   "id": "ea159037-80bd-464a-bd6e-95a2d26a35d2",
   "metadata": {},
   "source": []
  }
 ],
 "metadata": {
  "kaggle": {
   "accelerator": "nvidiaTeslaT4",
   "dataSources": [
    {
     "datasetId": 182088,
     "sourceId": 408792,
     "sourceType": "datasetVersion"
    }
   ],
   "dockerImageVersionId": 31041,
   "isGpuEnabled": true,
   "isInternetEnabled": true,
   "language": "python",
   "sourceType": "notebook"
  },
  "kernelspec": {
   "display_name": "Python 3 (ipykernel)",
   "language": "python",
   "name": "python3"
  },
  "language_info": {
   "codemirror_mode": {
    "name": "ipython",
    "version": 3
   },
   "file_extension": ".py",
   "mimetype": "text/x-python",
   "name": "python",
   "nbconvert_exporter": "python",
   "pygments_lexer": "ipython3",
   "version": "3.11.5"
  }
 },
 "nbformat": 4,
 "nbformat_minor": 5
}
