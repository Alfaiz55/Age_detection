{
 "cells": [
  {
   "cell_type": "markdown",
   "id": "2abeba19",
   "metadata": {},
   "source": [
    "# Age Detection Model"
   ]
  },
  {
   "cell_type": "markdown",
   "id": "0dfb76e0",
   "metadata": {},
   "source": [
    "**Import necessary libraries and prepare the dataset for operations**"
   ]
  },
  {
   "cell_type": "code",
   "execution_count": 1,
   "id": "2bc1c526",
   "metadata": {},
   "outputs": [
    {
     "name": "stdout",
     "output_type": "stream",
     "text": [
      "Total images loaded: 23709\n"
     ]
    }
   ],
   "source": [
    "import os                  \n",
    "import cv2                 \n",
    "import numpy as np\n",
    "from sklearn.model_selection import train_test_split\n",
    "\n",
    "import tensorflow as tf\n",
    "from tensorflow.keras.applications import MobileNetV2\n",
    "from tensorflow.keras.models import Model\n",
    "from tensorflow.keras.layers import Input, Dense, Dropout, GlobalAveragePooling2D\n",
    "from tensorflow.keras.callbacks import ModelCheckpoint, EarlyStopping\n",
    "\n",
    "import matplotlib.pyplot as plt\n"
   ]
  },
  {
   "cell_type": "markdown",
   "id": "e3bea5e2",
   "metadata": {},
   "source": [
    "**Load the dataset**"
   ]
  },
  {
   "cell_type": "code",
   "execution_count": 7,
   "id": "62fa57f7",
   "metadata": {},
   "outputs": [
    {
     "name": "stdout",
     "output_type": "stream",
     "text": [
      "Total images loaded: 23709\n"
     ]
    }
   ],
   "source": [
    "image_data=r'C:\\Users\\lenovo\\OneDrive\\Desktop\\jupyter_Project\\age_detect\\dataset'      \n",
    "image_size = 224            # We resize all images to 224x224 (needed for MobileNetV2)\n",
    "X,y=[],[]\n",
    "\n",
    "for file in os.listdir(image_data):\n",
    "    try:\n",
    "        age=int(file.split(\"_\")[0])\n",
    "        img_path=os.path.join(image_data,file)\n",
    "        image=cv2.imread(img_path)\n",
    "        X.append(image)\n",
    "        y.append(image)\n",
    "    except:\n",
    "        continue\n",
    "\n",
    "X=np.array(X)\n",
    "y=np.array(y)\n",
    "\n",
    "print(f\"Total images loaded: {len(X)}\")"
   ]
  },
  {
   "cell_type": "markdown",
   "id": "3728c775",
   "metadata": {},
   "source": [
    "**Split the data for training and testing**"
   ]
  },
  {
   "cell_type": "code",
   "execution_count": 2,
   "id": "5059e73f",
   "metadata": {},
   "outputs": [
    {
     "name": "stdout",
     "output_type": "stream",
     "text": [
      "Training data: 18967\n",
      "Testing data: 4742\n"
     ]
    }
   ],
   "source": [
    "X_train,X_test,y_train,y_test=train_test_split(X,y,test_size=0.2,random_state=42)\n",
    "#print the quantity of training and testing data\n",
    "print(f\"Training data: {len(X_train)}\")\n",
    "print(f\"Testing data: {len(X_test)}\")"
   ]
  },
  {
   "cell_type": "markdown",
   "id": "66106c13",
   "metadata": {},
   "source": [
    "**Build the MobileNetV2-Based Model**"
   ]
  },
  {
   "cell_type": "code",
   "execution_count": 6,
   "id": "62d252bd",
   "metadata": {},
   "outputs": [
    {
     "name": "stdout",
     "output_type": "stream",
     "text": [
      "done\n"
     ]
    }
   ],
   "source": [
    "#Define the shape for input\n",
    "input_shape=(224,224,3)\n",
    "\n",
    "## Load pre-trained MobileNetV2 model without the top layer to make our own layer\n",
    "base_model=MobileNetV2(\n",
    "    input_shape=input_shape,\n",
    "    include_top=False,\n",
    "    weights='imagenet'\n",
    "    )\n",
    "\n",
    "#Stop the base model layer\n",
    "base_model.trainable=False\n",
    "\n",
    "# create the new model on first of base\n",
    "inputs=Input(shape=input_shape)\n",
    "x=base_model(inputs,training=False)\n",
    "x=GlobalAveragePooling2D()(x)\n",
    "x=Dropout(0.3)(x)\n",
    "x=Dense(128,activation='relu')(x)\n",
    "x=Dropout(0.3)(x)\n",
    "\n",
    "output=Dense(1)(x) #One output neuraon for predicting the age\n",
    "\n",
    "#Bulid the proper Model\n",
    "model=Model(inputs,output)\n",
    "\n",
    "#compile the model using the MSL(mean square loss) which is part of regression\n",
    "model.compile(optimizer='adam',\n",
    "             loss='mean-squared_error',\n",
    "             metrics=['mae'])\n",
    "#Mean absolute Error to creating more readable\n",
    "print(\"done\")"
   ]
  },
  {
   "cell_type": "markdown",
   "id": "412109a6",
   "metadata": {},
   "source": [
    "**Training the model**"
   ]
  },
  {
   "cell_type": "code",
   "execution_count": 8,
   "id": "dac48dbc",
   "metadata": {},
   "outputs": [],
   "source": [
    "#set the Training Callbacks\n",
    "checkpoint=ModelCheckpoint('age_model.h5',      # Save better accuracy model to this .h5 file\n",
    "                          monitor='val_loss',   # Checking the validation loss to save model\n",
    "                          save_best_only=True,\n",
    "                          verbose=1)\n"
   ]
  },
  {
   "cell_type": "code",
   "execution_count": null,
   "id": "ceeb8d3f",
   "metadata": {},
   "outputs": [],
   "source": []
  }
 ],
 "metadata": {
  "kernelspec": {
   "display_name": "Python 3 (ipykernel)",
   "language": "python",
   "name": "python3"
  },
  "language_info": {
   "codemirror_mode": {
    "name": "ipython",
    "version": 3
   },
   "file_extension": ".py",
   "mimetype": "text/x-python",
   "name": "python",
   "nbconvert_exporter": "python",
   "pygments_lexer": "ipython3",
   "version": "3.11.5"
  }
 },
 "nbformat": 4,
 "nbformat_minor": 5
}
