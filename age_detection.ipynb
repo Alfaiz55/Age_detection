{
 "cells": [
  {
   "cell_type": "markdown",
   "id": "2abeba19",
   "metadata": {},
   "source": [
    "# Age Detection Model"
   ]
  },
  {
   "cell_type": "markdown",
   "id": "fd6abfda",
   "metadata": {},
   "source": [
    "**Import necessary libraries and prepare the dataset for operations**"
   ]
  },
  {
   "cell_type": "code",
   "execution_count": 9,
   "id": "2bc1c526",
   "metadata": {},
   "outputs": [
    {
     "name": "stdout",
     "output_type": "stream",
     "text": [
      "Total images loaded: 23709\n"
     ]
    }
   ],
   "source": [
    "import os                  \n",
    "import cv2                 \n",
    "import numpy as np\n",
    "from sklearn.model_selection import train_test_split\n",
    "\n",
    "import tensorflow as tf\n",
    "from tensorflow.keras.applications import MobileNetV2\n",
    "from tensorflow.keras.models import Model\n",
    "from tensorflow.keras.layers import Input, Dense, Dropout, GlobalAveragePooling2D\n",
    "from tensorflow.keras.callbacks import ModelCheckpoint, EarlyStopping\n",
    "\n",
    "import matplotlib.pyplot as plt\n",
    "\n",
    "\n",
    "image_data=r'C:\\Users\\lenovo\\OneDrive\\Desktop\\jupyter_Project\\age_detect\\dataset'      \n",
    "image_size = 224            # We resize all images to 224x224 (needed for MobileNetV2)\n",
    "X,y=[],[]\n",
    "\n",
    "for file in os.listdir(image_data):\n",
    "    try:\n",
    "        age=int(file.split(\"_\")[0])\n",
    "        img_path=os.path.join(image_data,file)\n",
    "        image=cv2.imread(img_path)\n",
    "        X.append(image)\n",
    "        y.append(image)\n",
    "    except:\n",
    "        continue\n",
    "\n",
    "X=np.array(X)\n",
    "y=np.array(y)\n",
    "\n",
    "print(f\"Total images loaded: {len(X)}\")\n",
    "\n"
   ]
  },
  {
   "cell_type": "markdown",
   "id": "cacf6818",
   "metadata": {},
   "source": [
    "**Split the data for training and testing**"
   ]
  },
  {
   "cell_type": "code",
   "execution_count": 10,
   "id": "b5649813",
   "metadata": {},
   "outputs": [
    {
     "name": "stdout",
     "output_type": "stream",
     "text": [
      "Training data: 18967\n",
      "Testing data: 4742\n"
     ]
    }
   ],
   "source": [
    "X_train,X_test,y_train,y_test=train_test_split(X,y,test_size=0.2,random_state=42)\n",
    "#print the quantity of training and testing data\n",
    "print(f\"Training data: {len(X_train)}\")\n",
    "print(f\"Testing data: {len(X_test)}\")"
   ]
  },
  {
   "cell_type": "code",
   "execution_count": null,
   "id": "a9d23dfd",
   "metadata": {},
   "outputs": [],
   "source": []
  }
 ],
 "metadata": {
  "kernelspec": {
   "display_name": "Python 3 (ipykernel)",
   "language": "python",
   "name": "python3"
  },
  "language_info": {
   "codemirror_mode": {
    "name": "ipython",
    "version": 3
   },
   "file_extension": ".py",
   "mimetype": "text/x-python",
   "name": "python",
   "nbconvert_exporter": "python",
   "pygments_lexer": "ipython3",
   "version": "3.11.5"
  }
 },
 "nbformat": 4,
 "nbformat_minor": 5
}
